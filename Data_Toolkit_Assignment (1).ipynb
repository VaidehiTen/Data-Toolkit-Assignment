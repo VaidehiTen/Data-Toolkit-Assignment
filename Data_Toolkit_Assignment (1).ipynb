{
  "nbformat": 4,
  "nbformat_minor": 0,
  "metadata": {
    "colab": {
      "provenance": []
    },
    "kernelspec": {
      "name": "python3",
      "display_name": "Python 3"
    },
    "language_info": {
      "name": "python"
    }
  },
  "cells": [
    {
      "cell_type": "markdown",
      "source": [
        "#Data Toolkit Questions & Answers"
      ],
      "metadata": {
        "id": "7L4XPF7AMzLW"
      }
    },
    {
      "cell_type": "markdown",
      "source": [
        "1. What is NumPy, and why is it widely used in Python?\n",
        "-  NumPy is an open source mathematical and scientific computing library for Python programming tasks. The name NumPy is shorthand for Numerical Python. The NumPy library offers a collection of high-level mathematical functions including support for multi-dimensional arrays, masked arrays and matrices.\n",
        "-  NumPy also includes various logical and mathematical capabilities for those arrays such as shape manipulation, sorting, selection, linear algebra, statistical operations, random number generation and discrete Fourier transforms.\n",
        "-  Here's why NumPy is widely used:\n",
        "\n",
        "  >Efficiency:\n",
        "   NumPy arrays are stored in contiguous memory locations, making them much faster for numerical operations compared to Python lists. This is due to a concept called \"locality of reference,\" which allows processes to access and manipulate data more efficiently.\n",
        "  \n",
        "  >Vectorization:\n",
        "   NumPy allows operations to be performed on entire arrays without explicit loops, enabling faster and more concise code. This process is known as vectorization.\n",
        "   \n",
        "  >Broadcasting:\n",
        "   NumPy can perform operations on arrays of different shapes and sizes, automatically aligning their dimensions without needing to create new data.\n",
        "  \n",
        "  >Mathematical Functions:\n",
        "   NumPy provides a large collection of high-level mathematical functions for linear algebra, Fourier transforms, random number generation, and statistical operations.\n",
        "  \n",
        "  >Interoperability:\n",
        "   NumPy integrates well with other Python libraries, such as SciPy, Matplotlib, and Pandas, which are essential for data science, machine learning, and scientific applications.\n",
        "  \n",
        "  >Memory Efficiency:\n",
        "   NumPy arrays use less memory than Python lists, making them suitable for handling large datasets.\n",
        "\n",
        "\n",
        "2. How does broadcasting work in NumPy?\n",
        "-  In NumPy, broadcasting is a powerful mechanism that allows arrays of different shapes to be used in arithmetic operations. When operating on two arrays, NumPy compares their shapes element-wise and automatically expands the smaller array to match the shape of the larger one, without copying data\n",
        "-  How Broadcasting Works:\n",
        "   - Shape Compatibility:\n",
        "     NumPy checks if the shapes of the two arrays are compatible for broadcasting. If the dimensions are not identical but compatible, NumPy will automatically \"broadcast\" the smaller array.\n",
        "   \n",
        "   - Dimension Matching:\n",
        "     >If the two arrays have different numbers of dimensions, the array with fewer dimensions is padded with ones on the leading (left) side until it has the same number of dimensions as the other array.\n",
        "     \n",
        "     >If the shapes don't match in any dimension, the array with a shape of 1 in that dimension is stretched to match the other array's shape.\n",
        "     \n",
        "     >If the shapes disagree and neither is 1, an error is raised.\n",
        "    \n",
        "   - Efficiency:\n",
        "     Broadcasting avoids the need to explicitly loop over elements or create temporary arrays, which improves performance and reduces memory usage.\n",
        "\n",
        "\n",
        "3. What is a Pandas DataFrame?\n",
        "-  A pandas DataFrame is a two-dimensional, size-mutable, and potentially heterogeneous tabular data structure with labeled axes (rows and columns). It is a fundamental data structure in pandas and is widely used for handling and manipulating data, which is crucial in the context of machine learning.\n",
        "\n",
        "-  When working with machine learning in Python using libraries like scikit-learn, TensorFlow, or PyTorch, you often use a pandas DataFrame to organize and preprocess your data before feeding it into a machine learning model. The DataFrame provides a convenient and powerful way to structure and manipulate datasets, making it a natural choice for machine learning workflows.\n",
        "\n",
        "\n",
        "4. Explain the use of the groupby() method in Pandas.\n",
        "-  Pandas groupby splits all the records from your data set into different categories or groups so that you can analyze the data by these groups. When you use the .groupby() function on any categorical column of DataFrame, it returns a GroupBy object, which you can use other methods on to group the data.  \n",
        "-  Uses :\n",
        "   > Data Aggregation: You can calculate summary statistics (e.g., sum, mean, count, min, max) for each group.\n",
        "   \n",
        "   > Data Transformation: Apply custom functions to modify data within each group.\n",
        "  \n",
        "   > Data Filtering: Remove entire groups that do not meet specific criteria.\n",
        "  \n",
        "   > Data Analysis: Gain insights into data by examining it across different categories.\n",
        "\n",
        "\n",
        "5. Why is Seaborn preferred for statistical visualizations?\n",
        "-  Seaborn is preferred for statistical visualizations due to its ease of use, integration with Pandas, and aesthetically pleasing default settings. It provides a high-level interface for creating complex and informative statistical plots with less code than Matplotlib. Seaborn is particularly well-suited for exploratory data analysis (EDA) because it seamlessly integrates with Pandas data structures.\n",
        "\n",
        "- Here's why Seaborn is favored :\n",
        "  >Simpler Syntax:\n",
        "   Seaborn offers a more straightforward way to create statistical plots compared to Matplotlib, which requires more low-level control.\n",
        "  \n",
        "  >Built-in Statistical Plot Types:\n",
        "   Seaborn includes specialized plot types like violin plots and swarm plots, which are not available in Matplotlib.\n",
        "  \n",
        "  >Integration with Pandas:\n",
        "   Seaborn is designed to work seamlessly with Pandas DataFrames, making it easy to visualize data directly from datasets.\n",
        "  \n",
        "  >Aesthetically Pleasing Defaults:\n",
        "   Seaborn provides visually appealing default styles and color palettes, making it easier to create professional-looking visualizations.\n",
        "  \n",
        "  >Focus on Data:\n",
        "   Seaborn's dataset-oriented API allows users to focus on the meaning of plot elements rather than the details of how to draw them.\n",
        "  \n",
        "  >Exploratory Data Analysis:\n",
        "   Seaborn is well-suited for EDA because it facilitates the exploration and understanding of data relationships through various plot types.\n",
        "  \n",
        "  >Complex Visualizations with Less Code:\n",
        "   Seaborn simplifies the creation of complex visualizations, such as FacetGrids, with less code than Matplotlib.\n",
        "  \n",
        "  >Versatile:\n",
        "   Seaborn can be used for a wide range of statistical visualization tasks, from visualizing distributions to exploring relationships between variables.\n",
        "\n",
        "\n",
        "6. What are the differences between NumPy arrays and Python lists?\n",
        "-  NumPy array:\n",
        "  >Fixed Size: Arrays in Python, especially NumPy arrays, have a fixed size once created, providing better memory efficiency and performance for numerical computations.\n",
        "  \n",
        "  >Homogeneous Data: Arrays require elements of the same data type, ensuring efficient storage and computation for numerical operations.\n",
        "  \n",
        "  >Vectorized Operations: NumPy arrays support vectorized operations, allowing mathematical operations to be applied to entire arrays efficiently.\n",
        "  \n",
        "  >Broadcasting: Arrays support broadcasting, enabling operations between arrays of different shapes with implicit alignment.\n",
        "  \n",
        "  >Advanced Indexing: Arrays offer advanced indexing capabilities, including boolean indexing, integer array indexing, and fancy indexing, allowing for complex data manipulations.\n",
        "\n",
        "-  Python lists:\n",
        "  >Dynamic Size: Lists in Python are dynamic arrays that can resize automatically as elements are added or removed.\n",
        "  \n",
        "  >Heterogeneous Elements: Lists can contain elements of different data types within the same structure.\n",
        "  \n",
        "  >Flexible Manipulation: Lists support various operations like append, insert, remove, and pop for adding, modifying, and removing elements.\n",
        "  \n",
        "  >Indexing and Slicing: Lists allow direct access to elements via indexing and support slicing operations to extract sublists.\n",
        "  \n",
        "  >Iterating: Lists can be iterated over using loops or comprehensions to process each element sequentially.\n",
        "\n",
        "\n",
        "7. What is a heatmap, and when should it be used?\n",
        "-  Heatmaps are graphical representations of data that utilize color-coded systems. The primary purpose of Heat Maps is to better visualize the volume of locations/events within a dataset and assist in directing viewers towards areas on data visualizations that matter most.  \n",
        "\n",
        "-  Heat Maps are an incredibly versatile tool, applicable across a broad range of scenarios. Their value lies not only in their ability to visualize data effectively but also in their capacity to reveal insights that might otherwise go unnoticed. Below are several key situations where Heatmaps can be particularly useful:\n",
        "\n",
        "  >Data Exploration and Pattern Recognition\n",
        "\n",
        "   - Identify Trends and Outliers: Heat Maps excel at highlighting patterns within large datasets. They make it easy to spot trends, such as areas of high activity or significant deviations, allowing users to quickly identify where further analysis is needed.\n",
        "   \n",
        "   - Enhance Visual Clarity: When dealing with complex data, Heatmaps simplify the visualization process by using color gradients to represent values, making it easier to understand the distribution and relationships within the data.\n",
        "\n",
        "  >Performance Monitoring\n",
        "\n",
        "   - Real-Time Data Monitoring: In environments where monitoring performance is critical, such as network operations centers or financial trading floors, Heat Maps provide real-time visual feedback on the status of key metrics. They allow for quick identification of bottlenecks or issues that require immediate attention.\n",
        "\n",
        "   - Efficiency Tracking: By mapping performance data, businesses can track the efficiency of processes over time. For example, in a manufacturing setting, a Heat Map could highlight areas where production is consistently slower, indicating where process improvements are needed.\n",
        "\n",
        "  >User Behavior Analysis\n",
        "\n",
        "   - Website and App Optimization: Heatmaps are often used in digital marketing to analyze user behavior on websites and apps. They reveal how users interact with a page, showing which areas are receiving the most attention and which are being ignored. This insight is crucial for optimizing user interfaces and improving the overall user experience.\n",
        "   \n",
        "   - Conversion Rate Optimization (CRO): By understanding where users are clicking or hesitating, businesses can make data-driven decisions to optimize conversion funnels, ultimately leading to higher engagement and conversion rates.\n",
        "\n",
        "  >Geospatial Analysis\n",
        "\n",
        "   - Geographical Data Visualization: Heatmaps are particularly useful in visualizing geographical data. Whether it’s mapping customer locations, sales regions, or environmental data, Heat Maps help in identifying regional patterns and making informed decisions based on geographic trends.\n",
        "   \n",
        "   - Risk Assessment and Management: In risk management, Heatmaps can visualize the geographic spread of potential risks, such as natural disasters or market fluctuations, enabling organizations to plan and respond proactively.\n",
        "\n",
        "\n",
        "8. What does the term “vectorized operation” mean in NumPy?\n",
        "-  Vectorized operations are the backbone of NumPy's efficiency and performance. They allow you to perform element-wise operations on entire arrays without explicit loops.\n",
        "-  Vectorized operations using NumPy are significantly quicker and more efficient than using for-loops.\n",
        "-  Benefits of Vectorized Operations\n",
        "\n",
        "  >Speed: Vectorized operations are significantly faster than Python loops.\n",
        "\n",
        "  >Readability: Code using vectorized operations is cleaner and more concise.\n",
        "\n",
        "  >Ease of Use: Applying operations across entire datasets becomes straightforward.\n",
        "\n",
        "-  Conclusion : Vectorized operations are a game-changer for data processing in Python. They make your code faster, more readable, and easier to maintain. By leveraging the power of NumPy and pandas, you can perform complex data manipulations with just a few lines of code.\n",
        "\n",
        "                                        \n",
        "9. How does Matplotlib differ from Plotly?\n",
        "-  Matplotlib and Plotly are both Python libraries for data visualization, but they differ in their focus and capabilities. Matplotlib excels at creating static, publication-quality visualizations with fine-grained control, while Plotly excels at creating interactive, web-based visualizations and dashboards.\n",
        "-  Matplotlib:\n",
        "  >Focus: Static, publication-quality visualizations.\n",
        "  \n",
        "  >Features:\n",
        "  - extensive control over plot customization, making it ideal for   publication-ready visuals.\n",
        "  - Can be used to create interactive plots as well, but it requires more effort and may not be as seamless as Plotly.\n",
        "  - More suitable for presentations and reports where interactivity is not a primary concern.\n",
        "  \n",
        "  >Ease of Use: Considered easier for beginners due to its user-friendly interface and extensive documentation.\n",
        "  \n",
        "  >Examples: Line plots, scatter plots, bar charts, histograms, and more.\n",
        "\n",
        "-  Plotly:\n",
        "  >Focus: Interactive, web-based visualizations and dashboards.\n",
        "  \n",
        "  >Features:\n",
        "  - Provides built-in interactivity, making it easy to create dashboards and web applications.\n",
        "  - Offers a wide range of chart types, including 3D charts, maps, and statistical graphs.\n",
        "  - Can generate beautiful, interactive, and exportable figures with just a few lines of code.\n",
        "  \n",
        "  >Ease of Use: Some users find the initial setup and code structure less intuitive than Matplotlib.\n",
        "  \n",
        "  >Examples: Interactive dashboards, web applications, 3D charts, and maps.\n",
        "\n",
        "\n",
        "10. What is the significance of hierarchical indexing in Pandas?\n",
        "-   Hierarchical Indexing, also known as MultiIndexing, is a powerful feature in Pandas that allows you to have multiple levels of indexing on an axis (row or column). This capability is particularly useful when dealing with high-dimensional data. With Hierarchical Indexing, you can easily group, slice, and aggregate your data, making your analysis more efficient and intuitive.\n",
        "\n",
        "-   Significance of hierarchical indexing :\n",
        "   >Representing Multi-Dimensional Data:\n",
        "   - It allows you to work with data that has more than two dimensions, such as time series data with multiple locations or datasets with multiple categories.\n",
        "   - This is achieved by creating a hierarchical structure where each level represents a different dimension or category.\n",
        "   \n",
        "   >Efficient Data Selection and Slicing:\n",
        "   - Hierarchical indexing makes it easier to select and slice data based on multiple criteria. You can select data based on a specific level or combination of levels.\n",
        "   - The .loc[] method, along with the xs() method, allows you to access data within the multi-level index.\n",
        "   \n",
        "   >Data Aggregation and Grouping:\n",
        "   - MultiIndexes facilitate grouping and aggregating data across multiple dimensions. You can perform operations like sum, mean, etc., on specific groups within the hierarchy.\n",
        "   - It allows you to perform group-by operations without the need for explicit grouping functions, as the hierarchical structure inherently defines the groups.\n",
        "  \n",
        "   >Improved Readability and Organization:\n",
        "   - Hierarchical indexing makes complex datasets more manageable and understandable by providing a clear structure to the data.\n",
        "   - It adds metadata to the data, making it easier to interpret and analyze the relationships between different levels.\n",
        "   \n",
        "  >Flexibility and Customization:\n",
        "  - You can create MultiIndexes in various ways, such as from arrays, tuples, or dictionaries.\n",
        "  - You can also reorder, sort, and rename the index levels to organize the data logically.\n",
        "  \n",
        "  >Optimized Queries:\n",
        "  - MultiIndexes are optimized for querying and filtering data, providing efficient access to specific subsets of the data.\n",
        "\n",
        "\n",
        "11. What is the role of Seaborn’s pairplot() function?\n",
        "-   The pairplot() function in Seaborn is used to visualize pairwise relationships between variables in a dataset. It creates a grid of scatterplots, where each cell shows the relationship between two variables. The diagonal cells often display histograms or kernel density plots of individual variables.\n",
        "\n",
        "-   roles of pairplot():\n",
        "   >Exploratory Data Analysis (EDA): It provides a quick overview of the dataset, allowing you to identify patterns, correlations, and distributions among variables.\n",
        "   \n",
        "   >Relationship Identification: It helps to spot linear and non-linear relationships between features.\n",
        "   \n",
        "   >Outlier Detection: It can help identify potential outliers in the data.\n",
        "   \n",
        "   >Feature Selection: It assists in identifying relevant variables for model building by visualizing strong relationships or distinct patterns.\n",
        "   \n",
        "   >Data Understanding: It summarizes a large amount of data into a single figure, making it easier to understand the relationships between multiple variables.\n",
        "\n",
        "\n",
        "12. What is the purpose of the describe() function in Pandas?\n",
        "-   describe() method in Pandas is used to generate descriptive statistics of DataFrame columns. It gives a quick summary of key statistical metrics like mean, standard deviation, percentiles, and more.\n",
        "-   By default, describe() works with numeric data but can also handle categorical data, offering tailored insights based on data type.\n",
        "-   Descriptive Statistics for Numerical Columns generated using .describe() Method\n",
        "  - count: Total number of non-null values in the column.\n",
        "  - mean: Average value of the column.\n",
        "  - std: Standard deviation, showing how spread out the values are.\n",
        "  - min: Minimum value in the column.\n",
        "  - 25%: 25th percentile (Q1).\n",
        "  - 50%: Median value (50th percentile).\n",
        "  - 75%: 75th percentile (Q3).\n",
        "  - max: Maximum value in the column.\n",
        "-   For string data, the describe() method provides:\n",
        "  - count: Total number of non-null values.\n",
        "  - unique: The number of unique values.\n",
        "  - top: The most frequent value.\n",
        "  - freq: The frequency of the most common value.\n",
        "\n",
        "\n",
        "13. Why is handling missing data important in Pandas?\n",
        "-   Handling missing data in Pandas is important because it can significantly impact the accuracy and reliability of data analysis. Real-world datasets often contain missing values, which can arise from various reasons such as data entry errors, incomplete collection, or system failures.\n",
        "-   Missing data can lead to several issues:\n",
        "   >Biased Analysis:\n",
        "  If missing values are ignored or not handled properly, it can skew statistical analysis and lead to incorrect conclusions.\n",
        "   \n",
        "   >Reduced Sample Size:\n",
        "  Removing rows with missing data can drastically reduce the dataset's size, leading to a loss of valuable information.\n",
        "  \n",
        "  >Incompatible with Algorithms:\n",
        "  Many machine learning algorithms cannot handle missing values and may produce errors or inaccurate results.\n",
        "  \n",
        "  >Misleading Insights:\n",
        "  Unaddressed missing data can result in misleading patterns and trends, affecting decision-making processes.\n",
        "  \n",
        "  >Pandas provides several methods to address missing data, including:\n",
        "  - Identification: Functions like isna(), isnull(), notna(), and notnull() help identify missing values.\n",
        "  - Removal: dropna() removes rows or columns with missing values.\n",
        "  - Imputation: fillna() replaces missing values with specific values, such as the mean, median, or a constant.\n",
        "\n",
        "\n",
        "14. What are the benefits of using Plotly for data visualization?\n",
        "-   Plotly offers several advantages for data visualization, including ease of use, interactivity, versatility, and web integration. It simplifies the creation of interactive and customizable charts, supports various chart types, and integrates well with popular languages like Python and R.\n",
        "-   Benefits of using Plotly for data visualization:\n",
        "   >Ease of Use: Plotly's syntax is relatively simple, making it easy to create visualizations, even for those with limited experience.\n",
        "   \n",
        "   >Interactivity: Plotly's interactive features, such as zoom, hover tooltips, and clickable legends, enhance user experience and allow for dynamic data exploration.\n",
        "   \n",
        "   >Versatility: Plotly supports a wide range of chart types, including standard plots like bar charts and line graphs, as well as more complex visualizations like 3D plots and geographic maps.\n",
        "   \n",
        "   >Web Integration: Plotly visualizations can be easily embedded into web applications or shared as standalone HTML files, making them suitable for online presentation and collaboration.\n",
        "   \n",
        "   >Customization: While easy to use, Plotly also offers extensive customization options, allowing users to fine-tune colors, fonts, and layouts to match their specific needs.\n",
        "   \n",
        "   >Data Exploration: Plotly's interactive features, such as hovertooltips, allow users to quickly identify outliers and anomalies in large datasets.\n",
        "   \n",
        "   >Integration with Dash: Plotly seamlessly integrates with the Dash framework, enabling the creation of interactive dashboards and web applications.\n",
        "   \n",
        "   >Export Options: Plotly supports exporting visualizations to various formats, including static images and HTML files, for sharing and reporting.\n",
        "\n",
        "\n",
        "15. How does NumPy handle multidimensional arrays?\n",
        "-   NumPy handles multidimensional arrays, also known as ndarrays, by storing the data in a contiguous block of memory. This is different from Python lists, which can store elements at scattered memory locations. NumPy's approach allows for efficient access and manipulation of array elements.\n",
        "-   Here's how NumPy organizes and manages multidimensional arrays:\n",
        "   >Homogeneous Data Type: All elements within a NumPy array must have the same data type (e.g., integer, float, boolean). This uniformity enables optimized storage and computation.\n",
        "   \n",
        "   >Shape and Dimensions: NumPy arrays have a defined shape, which is a tuple indicating the size of each dimension. For instance, a 2D array (matrix) might have a shape of (rows, columns), while a 3D array might have (depth, rows, columns).\n",
        "   \n",
        "   >Row-Major Indexing: NumPy uses row-major indexing, where the elements of each row are stored contiguously in memory. This means that when accessing elements sequentially, the rightmost index changes most quickly.\n",
        "   \n",
        "   >Strides: NumPy uses strides to calculate the memory address of an element efficiently. Strides define how many bytes to jump in memory to move to the next element along each dimension.\n",
        "   \n",
        "   >Views: NumPy allows creating \"views\" of arrays, which share the same underlying data but have different shapes, strides, or data types. This avoids copying data, making operations more efficient.\n",
        "\n",
        "\n",
        "16. What is the role of Bokeh in data visualization?\n",
        "-   Bokeh is a Python library that plays a crucial role in data visualization by enabling the creation of interactive and dynamic plots and dashboards for web browsers.\n",
        "-   It's particularly well-suited for exploring large datasets, displaying time-series data, and creating dashboards that can be embedded in web applications.\n",
        "-   Bokeh's role:\n",
        "   >Interactive Visualization: Bokeh's strength lies in its ability to create interactive visualizations where users can zoom, pan, and explore data through various tools like tooltips and selection widgets.\n",
        "   \n",
        "   >Web-Based Presentation: Bokeh plots can be easily embedded in web pages, making them ideal for online dashboards and reports.\n",
        "   \n",
        "   >Data Exploration: Bokeh's interactive features allow users to quickly explore relationships and patterns within data.\n",
        "   \n",
        "   >Dashboards: Bokeh's server-based architecture allows for the creation of dynamic dashboards that can handle large and streaming datasets.\n",
        "   \n",
        "   >Customization: Bokeh offers a range of customization options, allowing users to create visually appealing and informative charts and plots.       \n",
        "\n",
        "\n",
        "17. Explain the difference between apply() and map() in Pandas.\n",
        "-   apply() and map() are both used for applying functions to Pandas Series or DataFrames, but they differ in their usage and capabilities.\n",
        "\n",
        "-   apply():\n",
        "   \n",
        "   >Applies to: Both Pandas Series and DataFrames.\n",
        "   \n",
        "   >Purpose: More versatile, can apply functions along an axis of a DataFrame or element-wise on a Series.\n",
        "   \n",
        "   >Input: Accepts a function to apply.\n",
        "   \n",
        "   >Behavior:\n",
        "   - On a Series, applies the function to each element.\n",
        "   - On a DataFrame, applies the function along an axis (rows or columns).\n",
        "   \n",
        "   >Use Cases:\n",
        "   - Applying complex functions to Series or DataFrames.\n",
        "   - Performing row-wise or column-wise operations on DataFrames.\n",
        "   - Aggregating data across rows or columns.\n",
        "   \n",
        "   >Speed: Can be slower than map() for simple element-wise operations on Series, but more efficient for complex operations or DataFrame operations.\n",
        "   \n",
        "   >Flexibility: Allows passing additional arguments to the function being applied.\n",
        "\n",
        "-   map():\n",
        "\n",
        "   >Applies to: Pandas Series only.\n",
        "   \n",
        "   >Purpose: Primarily for element-wise transformations or substitutions in a Series.\n",
        "   \n",
        "   >Input: Accepts a function, a dictionary, or a Series to map values.\n",
        "   \n",
        "   >Behavior: It maps each value in the Series to a new value based on the provided mapping.\n",
        "   \n",
        "   >Use Cases:\n",
        "   - Replacing values based on a dictionary (e.g., mapping codes to descriptions).\n",
        "   - Applying a function to each element in a Series.\n",
        "   \n",
        "   >Speed: Generally faster for simple element-wise operations on a Series.\n",
        "   \n",
        "   >Limitations: Cannot be used on DataFrames directly.\n",
        "\n",
        "\n",
        "18. What are some advanced features of NumPy?\n",
        "-   Advanced features of NumPy:\n",
        "   \n",
        "   >Broadcasting:\n",
        "   - Broadcasting allows NumPy to perform element-wise operations on arrays of different shapes by automatically aligning the shapes, enabling efficient computations without creating unnecessary copies of data.\n",
        "   - It's particularly useful when working with arrays of uneven shapes, simplifying operations by broadcasting the smaller array's shape to match the larger one.  \n",
        "\n",
        "   >Structured Arrays:\n",
        "   - Structured arrays allow you to define arrays with fields of different data types, enabling you to represent complex data structures within a NumPy array.\n",
        "   - These arrays can store heterogeneous data, including text strings, numbers, and other types, providing a versatile way to manage diverse datasets.\n",
        "\n",
        "   >Universal Functions (ufuncs):\n",
        "   - Ufuncs are pre-compiled functions that operate on NumPy arrays element-wise, providing optimized performance for various numerical operations.\n",
        "   - They support a wide range of operations, including arithmetic, mathematical, and logical functions, enabling efficient array manipulation.  \n",
        "\n",
        "   >Advanced Indexing and Slicing:\n",
        "   - Fancy Indexing: Enables selecting elements from an array using arrays of indices, allowing for flexible and efficient selection of specific elements or sub-arrays.\n",
        "   - Boolean Indexing: Selects elements based on a boolean condition, providing a powerful way to filter and extract data based on logical criteria.\n",
        "   - Integer Indexing: Specifies multiple indices to select elements in a non-sequential way, similar to fancy indexing but using integer indices.\n",
        "\n",
        "   >Linear Algebra:\n",
        "   - NumPy provides a rich set of functions for linear algebra, including matrix multiplication, decomposition, and determinant calculations, essential for various scientific and engineering applications.\n",
        "   \n",
        "   >Random Number Generation:\n",
        "   - NumPy offers tools for generating random numbers, including normal distributions, uniform distributions, and more, enabling simulations and statistical analysis.   \n",
        "\n",
        "   >Memory-Mapped Files:\n",
        "   - NumPy allows for efficient storage and manipulation of large datasets by using memory-mapped files, which treat a file as a NumPy array, allowing for faster access without loading the entire file into memory.\n",
        "   - This feature is particularly useful for handling large datasets that don't fit comfortably into memory.\n",
        "   \n",
        "   >Numba Integration:\n",
        "   - NumPy can be integrated with Numba, a just-in-time (JIT) compiler, to further optimize performance by compiling Python code for array operations to machine code.\n",
        "   - This can significantly improve performance for computationally intensive tasks, especially when working with complex or large datasets.\n",
        "\n",
        "   >Fourier Transforms:\n",
        "   - NumPy supports fast Fourier transforms (FFTs), enabling efficient analysis of signals and data in the frequency domain, useful for image processing, signal processing, and other applications.\n",
        "\n",
        "\n",
        "19. How does Pandas simplify time series analysis ?\n",
        "-   Pandas simplifies time series analysis through several key features:\n",
        "   \n",
        "   >Time-Based Indexing:\n",
        "   - Pandas allows using dates and times as indices, enabling intuitive data access and manipulation.\n",
        "   - You can select data by specific dates, ranges, or partial strings (e.g., selecting all data for a specific year or month).\n",
        "\n",
        "   >Resampling:\n",
        "   - Pandas allows resampling time series data to different frequencies (e.g., from daily to monthly) using methods like resample().\n",
        "   - This enables aggregation and analysis over various time intervals.\n",
        "   \n",
        "   >Rolling Windows:\n",
        "   - Pandas provides the rolling() function to calculate statistics (e.g., mean, sum) over moving windows of time.\n",
        "   - This is useful for smoothing data and identifying trends.\n",
        "\n",
        "   >Date and Time Handling:\n",
        "   - Pandas can convert various date/time formats into datetime objects, ensuring proper handling of temporal data.\n",
        "   - It provides time-related properties like year, month, day, and hour for easy extraction and analysis.\n",
        "\n",
        "   >Visualization:\n",
        "   - Pandas integrates with plotting libraries, allowing easy visualization of time series data with line charts, bar plots, and other graphs.\n",
        "\n",
        "   >Autocorrelation:\n",
        "   - Pandas allows calculating autocorrelation, which helps identify relationships between observations at different time lags.\n",
        "   - This feature is useful for detecting patterns and seasonality in time series data.\n",
        "   \n",
        "   >Data Alignment:\n",
        "   - Pandas automatically aligns time series data based on their time indices, simplifying operations between different time series.\n",
        "\n",
        "   >Data Structures:\n",
        "   - Pandas uses Series and DataFrames, which are well-suited for handling time series data.\n",
        "   - Series can store single time series, and DataFrames can store multiple time series with consistent time indices.\n",
        "\n",
        "   >Time Series Operations:\n",
        "   - Pandas offers various operations specific to time series, like shifting data, calculating differences, and performing time-based arithmetic.\n",
        "\n",
        "\n",
        "20. What is the role of a pivot table in Pandas?\n",
        "-   The pivot_table function in Pandas is a powerful tool for reshaping and summarizing data. It enables you to transform a DataFrame from a \"long\" format to a \"wide\" format, making it easier to analyze and visualize data.\n",
        "-   Here's a roles of a pivot table in Pandas:\n",
        "  >Data Reshaping: It restructures data by converting unique values from one or more columns into new column headers. This is useful for comparing attributes across different entities.\n",
        "  \n",
        "  >Data Aggregation: It allows you to apply aggregation functions (like sum, mean, count) to the data, summarizing values based on the new row and column groupings.\n",
        "  \n",
        "  >Multi-Indexing: It supports hierarchical indexing, enabling the use of multiple levels of rows and columns for more complex data analysis.\n",
        "  \n",
        "  >Customization: It provides flexibility in customizing the rows, columns, and aggregation functions, allowing you to tailor the pivot table to specific needs.\n",
        "  \n",
        "  >Handling Large Datasets:It can handle large datasets with many columns, making it suitable for complex data analysis tasks.\n",
        "  \n",
        "  >Data Visualization: It can be used in conjunction with Pandas plotting functionality to create useful data visualizations.\n",
        "\n",
        "\n",
        "21. Why is NumPy’s array slicing faster than Python’s list slicing?\n",
        "-   NumPy's array slicing is generally faster than Python's list slicing due to fundamental differences in their underlying implementations and memory management.\n",
        "\n",
        "-   Here's why:\n",
        "   >Vectorization:\n",
        "   - NumPy is designed to perform vectorized operations, meaning operations can be applied to entire arrays at once, rather than looping through each element individually. This can significantly improve performance, especially for large arrays.\n",
        "   - Python lists typically require explicit loops for element-wise operations, which are slower than NumPy's vectorized operations.\n",
        "\n",
        "   >Contiguous Memory Allocation:\n",
        "   - NumPy arrays store elements of the same data type in a contiguous block of memory. This means elements are located next to each other in memory, allowing for efficient access and manipulation.\n",
        "   - Python lists, on the other hand, store references (pointers) to objects, which can be scattered throughout memory. This requires additional lookups and can be slower, especially for numerical operations.\n",
        "\n",
        "   >Efficient Memory Usage:\n",
        "   - NumPy arrays are more memory-efficient than Python lists because they store elements in a contiguous block of memory and use homogeneous data types. This reduces memory overhead and improves memory utilization, especially for large datasets.\n",
        "   - Python lists have a higher memory overhead due to the storage of references to objects and potential type heterogeneity.\n",
        "\n",
        "   >Homogeneous Data Types:\n",
        "   - NumPy arrays are designed to hold elements of the same data type (e.g., all integers or all floats). This homogeneity allows NumPy to perform operations using highly optimized, low-level C code, avoiding the overhead of type checking and conversions.\n",
        "   - Python lists are more flexible and can contain elements of different types. This flexibility comes at the cost of performance, as Python needs to perform type checks for each element.\n",
        "   \n",
        "   >Optimized C Code:\n",
        "   - NumPy operations, including slicing, are often implemented in highly optimized C code. This allows NumPy to leverage the performance of compiled code and avoid the overhead of interpreted Python code.\n",
        "   - Python list operations are generally performed using interpreted Python code, which is slower than compiled C code.\n",
        "\n",
        "\n",
        "22. What are some common use cases for Seaborn?\n",
        "-   Seaborn is a Python library for data visualization built on Matplotlib. Matplotlib is used to plot 2D and 3D graphs, while Seaborn is used to plot statistical graphs. Because Seaborn builds on Matplotlib, you can use these two libraries together to create very powerful visualizations.\n",
        "-   Use cases for Seaborn:    \n",
        "    >Exploratory Data analysis (EDA): Seaborn's ability to create complex plots with minimal code makes it ideal for EDA. Common plots include histograms, scatter plots, and pair plots, which help in understanding data distributions and relationships.\n",
        "\n",
        "    >Statistical Analysis: Seaborn provides functions for visualizing statistical relationships, such as regression plots and heatmaps, which are useful for identifying patterns and correlations in data.\n",
        "\n",
        "    >Machine Learning: In machine learning, Seaborn is often used to visualize model performance, feature importance, and data preprocessing steps. For example, it can be used to plot confusion matrices and ROC curves.\n",
        "\n",
        "    >Publication-Quality Graphics: Seaborn's default styles and color palettes are designed to produce visually appealing plots suitable for academic publications and presentations.   \n",
        "      \n",
        "\n",
        "  \n",
        "    \n",
        "\n",
        "       "
      ],
      "metadata": {
        "id": "CYflNVchM8iH"
      }
    },
    {
      "cell_type": "markdown",
      "source": [
        "#Practical Questions\n"
      ],
      "metadata": {
        "id": "BIV5izvad7b9"
      }
    },
    {
      "cell_type": "markdown",
      "source": [
        "1. How do you create a 2D NumPy array and calculate the sum of each row?\n",
        "-  To create a 2D NumPy array and calculate the sum of each row, you can first create the array using np.array() and then use np.sum() with the axis=1 parameter to sum along the rows.   "
      ],
      "metadata": {
        "id": "RcueQjuEd-KY"
      }
    },
    {
      "cell_type": "code",
      "source": [
        "import numpy as np\n",
        "\n",
        "# Example 3X3 2D array\n",
        "arr = np.array([[2, 2, 2],\n",
        "                [1, 4, 6],\n",
        "                [3, 5, 7]])\n",
        "\n",
        "row_sums = np.sum(arr, axis=1)\n",
        "print(row_sums)"
      ],
      "metadata": {
        "colab": {
          "base_uri": "https://localhost:8080/"
        },
        "id": "RtspcZtYe8XB",
        "outputId": "3cc6886a-d7f3-4d18-e42c-4ce09f642870"
      },
      "execution_count": 2,
      "outputs": [
        {
          "output_type": "stream",
          "name": "stdout",
          "text": [
            "[ 6 11 15]\n"
          ]
        }
      ]
    },
    {
      "cell_type": "markdown",
      "source": [
        "2. Write a Pandas script to find the mean of a specific column in a DataFrame."
      ],
      "metadata": {
        "id": "qpgKcpjzgHGR"
      }
    },
    {
      "cell_type": "code",
      "source": [
        "import pandas as pd\n",
        "\n",
        "# Sample data\n",
        "data = {\n",
        "    'Employee': ['Neha', 'Ankit', 'Pooja', 'Priti'],\n",
        "    'Salary': [55000, 62000, 58000, 60000]\n",
        "}\n",
        "\n",
        "# Create DataFrame\n",
        "df = pd.DataFrame(data)\n",
        "\n",
        "# Calculate mean of the 'Salary' column\n",
        "mean_salary = df['Salary'].mean()\n",
        "\n",
        "print(\"Mean salary:\", mean_salary)\n"
      ],
      "metadata": {
        "colab": {
          "base_uri": "https://localhost:8080/"
        },
        "id": "m3GKEVNCg3FE",
        "outputId": "3e1396a1-e0f2-4bcc-8262-8992761bc0e2"
      },
      "execution_count": 4,
      "outputs": [
        {
          "output_type": "stream",
          "name": "stdout",
          "text": [
            "Mean salary: 58750.0\n"
          ]
        }
      ]
    },
    {
      "cell_type": "markdown",
      "source": [
        "3. Create a scatter plot using Matplotlib."
      ],
      "metadata": {
        "id": "xwBgs0F5hYAb"
      }
    },
    {
      "cell_type": "code",
      "source": [
        "import matplotlib.pyplot as plt\n",
        "\n",
        "# Sample data\n",
        "x = [1, 2, 3, 4, 5]\n",
        "y = [5, 7, 4, 6, 8]\n",
        "\n",
        "# Create scatter plot\n",
        "plt.scatter(x, y)\n",
        "\n",
        "# Add title and labels\n",
        "plt.title(\"Simple Scatter Plot\")\n",
        "plt.xlabel(\"X-axis\")\n",
        "plt.ylabel(\"Y-axis\")\n",
        "\n",
        "# Show plot\n",
        "plt.show()\n"
      ],
      "metadata": {
        "colab": {
          "base_uri": "https://localhost:8080/",
          "height": 472
        },
        "id": "hZRw5m3GhbcT",
        "outputId": "f32d60ad-3760-4acd-d6a5-9b7c85cd1b31"
      },
      "execution_count": 5,
      "outputs": [
        {
          "output_type": "display_data",
          "data": {
            "text/plain": [
              "<Figure size 640x480 with 1 Axes>"
            ],
            "image/png": "[encoded data removed]"
          },
          "metadata": {}
        }
      ]
    },
    {
      "cell_type": "markdown",
      "source": [
        "4. How do you calculate the correlation matrix using Seaborn and visualize it with a heatmap?\n",
        "-  To create a correlation matrix and visualize it as a heatmap using Seaborn, you'll first calculate the correlation matrix using the corr() method of your Pandas DataFrame. Then, you'll use seaborn.heatmap() to display the correlation matrix visually.\n",
        "-  Import necessary libraries\n",
        "-  Prepare your data:\n",
        "  - Load your data into a Pandas DataFrame.\n",
        "  - Calculate the correlation matrix using df.corr(). This will create a DataFrame where each cell represents the correlation coefficient between two columns.\n",
        "-  annot=True: Displays the correlation values on the heatmap cells.\n",
        "   \n",
        "   cmap: Sets the color palette for the heatmap (e.g., 'coolwarm', 'viridis', 'RdBu').\n",
        "   \n",
        "   plt.title(): Adds a title to the heatmap.\n",
        "   \n",
        "   plt.show(): Displays the plot.    "
      ],
      "metadata": {
        "id": "esjZV2FSiWps"
      }
    },
    {
      "cell_type": "code",
      "source": [
        "import pandas as pd\n",
        "import seaborn as sns\n",
        "import matplotlib.pyplot as plt\n",
        "\n",
        "# Sample DataFrame\n",
        "data = {\n",
        "    'A': [1, 2, 3, 4, 5],\n",
        "    'B': [5, 4, 3, 2, 1],\n",
        "    'C': [2, 3, 4, 5, 6],\n",
        "    'D': [5, 6, 7, 8, 9]\n",
        "}\n",
        "\n",
        "df = pd.DataFrame(data)\n",
        "\n",
        "# Calculate correlation matrix\n",
        "corr_matrix = df.corr()\n",
        "\n",
        "# Plot heatmap\n",
        "sns.heatmap(corr_matrix, annot=True, cmap='coolwarm')\n",
        "\n",
        "# Add title\n",
        "plt.title(\"Correlation Matrix Heatmap\")\n",
        "\n",
        "plt.show()\n"
      ],
      "metadata": {
        "colab": {
          "base_uri": "https://localhost:8080/",
          "height": 452
        },
        "id": "ogJdMtU_jl4t",
        "outputId": "84008ffc-4de8-48cf-fb9e-409d4b836863"
      },
      "execution_count": 6,
      "outputs": [
        {
          "output_type": "display_data",
          "data": {
            "text/plain": [
              "<Figure size 640x480 with 2 Axes>"
            ],
            "image/png": "[encoded data removed]"
          },
          "metadata": {}
        }
      ]
    },
    {
      "cell_type": "markdown",
      "source": [
        "5. Generate a bar plot using Plotly."
      ],
      "metadata": {
        "id": "xLxmi7uzjurh"
      }
    },
    {
      "cell_type": "code",
      "source": [
        "import plotly.express as px\n",
        "import pandas as pd\n",
        "\n",
        "# Sample data\n",
        "data = {\n",
        "    'Fruits': ['Apples', 'Oranges', 'Bananas', 'Grapes'],\n",
        "    'Quantity': [10, 15, 7, 12]\n",
        "}\n",
        "\n",
        "df = pd.DataFrame(data)\n",
        "\n",
        "# Create bar plot\n",
        "fig = px.bar(df, x='Fruits', y='Quantity', title='Fruit Quantity')\n",
        "\n",
        "# Show plot\n",
        "fig.show()\n"
      ],
      "metadata": {
        "colab": {
          "base_uri": "https://localhost:8080/",
          "height": 542
        },
        "id": "LjXGL9cLkF-y",
        "outputId": "7ff0c700-1171-4571-8987-11683ede2318"
      },
      "execution_count": 7,
      "outputs": [
        {
          "output_type": "display_data",
          "data": {
            "text/html": [
              "<html>\n",
              "<head><meta charset=\"utf-8\" /></head>\n",
              "<body>\n",
              "    <div>            <script src=\"https://cdnjs.cloudflare.com/ajax/libs/mathjax/2.7.5/MathJax.js?config=TeX-AMS-MML_SVG\"></script><script type=\"text/javascript\">if (window.MathJax && window.MathJax.Hub && window.MathJax.Hub.Config) {window.MathJax.Hub.Config({SVG: {font: \"STIX-Web\"}});}</script>                <script type=\"text/javascript\">window.PlotlyConfig = {MathJaxConfig: 'local'};</script>\n",
              "        <script charset=\"utf-8\" src=\"https://cdn.plot.ly/plotly-2.35.2.min.js\"></script>                <div id=\"ea6a5318-042c-4754-8376-ddaedf196b96\" class=\"plotly-graph-div\" style=\"height:525px; width:100%;\"></div>            <script type=\"text/javascript\">                                    window.PLOTLYENV=window.PLOTLYENV || {};                                    if (document.getElementById(\"ea6a5318-042c-4754-8376-ddaedf196b96\")) {                    Plotly.newPlot(                        \"ea6a5318-042c-4754-8376-ddaedf196b96\",                        [{\"alignmentgroup\":\"True\",\"hovertemplate\":\"Fruits=%{x}\\u003cbr\\u003eQuantity=%{y}\\u003cextra\\u003e\\u003c\\u002fextra\\u003e\",\"legendgroup\":\"\",\"marker\":{\"color\":\"#636efa\",\"pattern\":{\"shape\":\"\"}},\"name\":\"\",\"offsetgroup\":\"\",\"orientation\":\"v\",\"showlegend\":false,\"textposition\":\"auto\",\"x\":[\"Apples\",\"Oranges\",\"Bananas\",\"Grapes\"],\"xaxis\":\"x\",\"y\":[10,15,7,12],\"yaxis\":\"y\",\"type\":\"bar\"}],                        {\"template\":{\"data\":{\"histogram2dcontour\":[{\"type\":\"histogram2dcontour\",\"colorbar\":{\"outlinewidth\":0,\"ticks\":\"\"},\"colorscale\":[[0.0,\"#0d0887\"],[0.1111111111111111,\"#46039f\"],[0.2222222222222222,\"#7201a8\"],[0.3333333333333333,\"#9c179e\"],[0.4444444444444444,\"#bd3786\"],[0.5555555555555556,\"#d8576b\"],[0.6666666666666666,\"#ed7953\"],[0.7777777777777778,\"#fb9f3a\"],[0.8888888888888888,\"#fdca26\"],[1.0,\"#f0f921\"]]}],\"choropleth\":[{\"type\":\"choropleth\",\"colorbar\":{\"outlinewidth\":0,\"ticks\":\"\"}}],\"histogram2d\":[{\"type\":\"histogram2d\",\"colorbar\":{\"outlinewidth\":0,\"ticks\":\"\"},\"colorscale\":[[0.0,\"#0d0887\"],[0.1111111111111111,\"#46039f\"],[0.2222222222222222,\"#7201a8\"],[0.3333333333333333,\"#9c179e\"],[0.4444444444444444,\"#bd3786\"],[0.5555555555555556,\"#d8576b\"],[0.6666666666666666,\"#ed7953\"],[0.7777777777777778,\"#fb9f3a\"],[0.8888888888888888,\"#fdca26\"],[1.0,\"#f0f921\"]]}],\"heatmap\":[{\"type\":\"heatmap\",\"colorbar\":{\"outlinewidth\":0,\"ticks\":\"\"},\"colorscale\":[[0.0,\"#0d0887\"],[0.1111111111111111,\"#46039f\"],[0.2222222222222222,\"#7201a8\"],[0.3333333333333333,\"#9c179e\"],[0.4444444444444444,\"#bd3786\"],[0.5555555555555556,\"#d8576b\"],[0.6666666666666666,\"#ed7953\"],[0.7777777777777778,\"#fb9f3a\"],[0.8888888888888888,\"#fdca26\"],[1.0,\"#f0f921\"]]}],\"heatmapgl\":[{\"type\":\"heatmapgl\",\"colorbar\":{\"outlinewidth\":0,\"ticks\":\"\"},\"colorscale\":[[0.0,\"#0d0887\"],[0.1111111111111111,\"#46039f\"],[0.2222222222222222,\"#7201a8\"],[0.3333333333333333,\"#9c179e\"],[0.4444444444444444,\"#bd3786\"],[0.5555555555555556,\"#d8576b\"],[0.6666666666666666,\"#ed7953\"],[0.7777777777777778,\"#fb9f3a\"],[0.8888888888888888,\"#fdca26\"],[1.0,\"#f0f921\"]]}],\"contourcarpet\":[{\"type\":\"contourcarpet\",\"colorbar\":{\"outlinewidth\":0,\"ticks\":\"\"}}],\"contour\":[{\"type\":\"contour\",\"colorbar\":{\"outlinewidth\":0,\"ticks\":\"\"},\"colorscale\":[[0.0,\"#0d0887\"],[0.1111111111111111,\"#46039f\"],[0.2222222222222222,\"#7201a8\"],[0.3333333333333333,\"#9c179e\"],[0.4444444444444444,\"#bd3786\"],[0.5555555555555556,\"#d8576b\"],[0.6666666666666666,\"#ed7953\"],[0.7777777777777778,\"#fb9f3a\"],[0.8888888888888888,\"#fdca26\"],[1.0,\"#f0f921\"]]}],\"surface\":[{\"type\":\"surface\",\"colorbar\":{\"outlinewidth\":0,\"ticks\":\"\"},\"colorscale\":[[0.0,\"#0d0887\"],[0.1111111111111111,\"#46039f\"],[0.2222222222222222,\"#7201a8\"],[0.3333333333333333,\"#9c179e\"],[0.4444444444444444,\"#bd3786\"],[0.5555555555555556,\"#d8576b\"],[0.6666666666666666,\"#ed7953\"],[0.7777777777777778,\"#fb9f3a\"],[0.8888888888888888,\"#fdca26\"],[1.0,\"#f0f921\"]]}],\"mesh3d\":[{\"type\":\"mesh3d\",\"colorbar\":{\"outlinewidth\":0,\"ticks\":\"\"}}],\"scatter\":[{\"fillpattern\":{\"fillmode\":\"overlay\",\"size\":10,\"solidity\":0.2},\"type\":\"scatter\"}],\"parcoords\":[{\"type\":\"parcoords\",\"line\":{\"colorbar\":{\"outlinewidth\":0,\"ticks\":\"\"}}}],\"scatterpolargl\":[{\"type\":\"scatterpolargl\",\"marker\":{\"colorbar\":{\"outlinewidth\":0,\"ticks\":\"\"}}}],\"bar\":[{\"error_x\":{\"color\":\"#2a3f5f\"},\"error_y\":{\"color\":\"#2a3f5f\"},\"marker\":{\"line\":{\"color\":\"#E5ECF6\",\"width\":0.5},\"pattern\":{\"fillmode\":\"overlay\",\"size\":10,\"solidity\":0.2}},\"type\":\"bar\"}],\"scattergeo\":[{\"type\":\"scattergeo\",\"marker\":{\"colorbar\":{\"outlinewidth\":0,\"ticks\":\"\"}}}],\"scatterpolar\":[{\"type\":\"scatterpolar\",\"marker\":{\"colorbar\":{\"outlinewidth\":0,\"ticks\":\"\"}}}],\"histogram\":[{\"marker\":{\"pattern\":{\"fillmode\":\"overlay\",\"size\":10,\"solidity\":0.2}},\"type\":\"histogram\"}],\"scattergl\":[{\"type\":\"scattergl\",\"marker\":{\"colorbar\":{\"outlinewidth\":0,\"ticks\":\"\"}}}],\"scatter3d\":[{\"type\":\"scatter3d\",\"line\":{\"colorbar\":{\"outlinewidth\":0,\"ticks\":\"\"}},\"marker\":{\"colorbar\":{\"outlinewidth\":0,\"ticks\":\"\"}}}],\"scattermapbox\":[{\"type\":\"scattermapbox\",\"marker\":{\"colorbar\":{\"outlinewidth\":0,\"ticks\":\"\"}}}],\"scatterternary\":[{\"type\":\"scatterternary\",\"marker\":{\"colorbar\":{\"outlinewidth\":0,\"ticks\":\"\"}}}],\"scattercarpet\":[{\"type\":\"scattercarpet\",\"marker\":{\"colorbar\":{\"outlinewidth\":0,\"ticks\":\"\"}}}],\"carpet\":[{\"aaxis\":{\"endlinecolor\":\"#2a3f5f\",\"gridcolor\":\"white\",\"linecolor\":\"white\",\"minorgridcolor\":\"white\",\"startlinecolor\":\"#2a3f5f\"},\"baxis\":{\"endlinecolor\":\"#2a3f5f\",\"gridcolor\":\"white\",\"linecolor\":\"white\",\"minorgridcolor\":\"white\",\"startlinecolor\":\"#2a3f5f\"},\"type\":\"carpet\"}],\"table\":[{\"cells\":{\"fill\":{\"color\":\"#EBF0F8\"},\"line\":{\"color\":\"white\"}},\"header\":{\"fill\":{\"color\":\"#C8D4E3\"},\"line\":{\"color\":\"white\"}},\"type\":\"table\"}],\"barpolar\":[{\"marker\":{\"line\":{\"color\":\"#E5ECF6\",\"width\":0.5},\"pattern\":{\"fillmode\":\"overlay\",\"size\":10,\"solidity\":0.2}},\"type\":\"barpolar\"}],\"pie\":[{\"automargin\":true,\"type\":\"pie\"}]},\"layout\":{\"autotypenumbers\":\"strict\",\"colorway\":[\"#636efa\",\"#EF553B\",\"#00cc96\",\"#ab63fa\",\"#FFA15A\",\"#19d3f3\",\"#FF6692\",\"#B6E880\",\"#FF97FF\",\"#FECB52\"],\"font\":{\"color\":\"#2a3f5f\"},\"hovermode\":\"closest\",\"hoverlabel\":{\"align\":\"left\"},\"paper_bgcolor\":\"white\",\"plot_bgcolor\":\"#E5ECF6\",\"polar\":{\"bgcolor\":\"#E5ECF6\",\"angularaxis\":{\"gridcolor\":\"white\",\"linecolor\":\"white\",\"ticks\":\"\"},\"radialaxis\":{\"gridcolor\":\"white\",\"linecolor\":\"white\",\"ticks\":\"\"}},\"ternary\":{\"bgcolor\":\"#E5ECF6\",\"aaxis\":{\"gridcolor\":\"white\",\"linecolor\":\"white\",\"ticks\":\"\"},\"baxis\":{\"gridcolor\":\"white\",\"linecolor\":\"white\",\"ticks\":\"\"},\"caxis\":{\"gridcolor\":\"white\",\"linecolor\":\"white\",\"ticks\":\"\"}},\"coloraxis\":{\"colorbar\":{\"outlinewidth\":0,\"ticks\":\"\"}},\"colorscale\":{\"sequential\":[[0.0,\"#0d0887\"],[0.1111111111111111,\"#46039f\"],[0.2222222222222222,\"#7201a8\"],[0.3333333333333333,\"#9c179e\"],[0.4444444444444444,\"#bd3786\"],[0.5555555555555556,\"#d8576b\"],[0.6666666666666666,\"#ed7953\"],[0.7777777777777778,\"#fb9f3a\"],[0.8888888888888888,\"#fdca26\"],[1.0,\"#f0f921\"]],\"sequentialminus\":[[0.0,\"#0d0887\"],[0.1111111111111111,\"#46039f\"],[0.2222222222222222,\"#7201a8\"],[0.3333333333333333,\"#9c179e\"],[0.4444444444444444,\"#bd3786\"],[0.5555555555555556,\"#d8576b\"],[0.6666666666666666,\"#ed7953\"],[0.7777777777777778,\"#fb9f3a\"],[0.8888888888888888,\"#fdca26\"],[1.0,\"#f0f921\"]],\"diverging\":[[0,\"#8e0152\"],[0.1,\"#c51b7d\"],[0.2,\"#de77ae\"],[0.3,\"#f1b6da\"],[0.4,\"#fde0ef\"],[0.5,\"#f7f7f7\"],[0.6,\"#e6f5d0\"],[0.7,\"#b8e186\"],[0.8,\"#7fbc41\"],[0.9,\"#4d9221\"],[1,\"#276419\"]]},\"xaxis\":{\"gridcolor\":\"white\",\"linecolor\":\"white\",\"ticks\":\"\",\"title\":{\"standoff\":15},\"zerolinecolor\":\"white\",\"automargin\":true,\"zerolinewidth\":2},\"yaxis\":{\"gridcolor\":\"white\",\"linecolor\":\"white\",\"ticks\":\"\",\"title\":{\"standoff\":15},\"zerolinecolor\":\"white\",\"automargin\":true,\"zerolinewidth\":2},\"scene\":{\"xaxis\":{\"backgroundcolor\":\"#E5ECF6\",\"gridcolor\":\"white\",\"linecolor\":\"white\",\"showbackground\":true,\"ticks\":\"\",\"zerolinecolor\":\"white\",\"gridwidth\":2},\"yaxis\":{\"backgroundcolor\":\"#E5ECF6\",\"gridcolor\":\"white\",\"linecolor\":\"white\",\"showbackground\":true,\"ticks\":\"\",\"zerolinecolor\":\"white\",\"gridwidth\":2},\"zaxis\":{\"backgroundcolor\":\"#E5ECF6\",\"gridcolor\":\"white\",\"linecolor\":\"white\",\"showbackground\":true,\"ticks\":\"\",\"zerolinecolor\":\"white\",\"gridwidth\":2}},\"shapedefaults\":{\"line\":{\"color\":\"#2a3f5f\"}},\"annotationdefaults\":{\"arrowcolor\":\"#2a3f5f\",\"arrowhead\":0,\"arrowwidth\":1},\"geo\":{\"bgcolor\":\"white\",\"landcolor\":\"#E5ECF6\",\"subunitcolor\":\"white\",\"showland\":true,\"showlakes\":true,\"lakecolor\":\"white\"},\"title\":{\"x\":0.05},\"mapbox\":{\"style\":\"light\"}}},\"xaxis\":{\"anchor\":\"y\",\"domain\":[0.0,1.0],\"title\":{\"text\":\"Fruits\"}},\"yaxis\":{\"anchor\":\"x\",\"domain\":[0.0,1.0],\"title\":{\"text\":\"Quantity\"}},\"legend\":{\"tracegroupgap\":0},\"title\":{\"text\":\"Fruit Quantity\"},\"barmode\":\"relative\"},                        {\"responsive\": true}                    ).then(function(){\n",
              "                            \n",
              "var gd = document.getElementById('ea6a5318-042c-4754-8376-ddaedf196b96');\n",
              "var x = new MutationObserver(function (mutations, observer) {{\n",
              "        var display = window.getComputedStyle(gd).display;\n",
              "        if (!display || display === 'none') {{\n",
              "            console.log([gd, 'removed!']);\n",
              "            Plotly.purge(gd);\n",
              "            observer.disconnect();\n",
              "        }}\n",
              "}});\n",
              "\n",
              "// Listen for the removal of the full notebook cells\n",
              "var notebookContainer = gd.closest('#notebook-container');\n",
              "if (notebookContainer) {{\n",
              "    x.observe(notebookContainer, {childList: true});\n",
              "}}\n",
              "\n",
              "// Listen for the clearing of the current output cell\n",
              "var outputEl = gd.closest('.output');\n",
              "if (outputEl) {{\n",
              "    x.observe(outputEl, {childList: true});\n",
              "}}\n",
              "\n",
              "                        })                };                            </script>        </div>\n",
              "</body>\n",
              "</html>"
            ]
          },
          "metadata": {}
        }
      ]
    },
    {
      "cell_type": "markdown",
      "source": [
        "6. Create a DataFrame and add a new column based on an existing column."
      ],
      "metadata": {
        "id": "w8RynqKdkUqi"
      }
    },
    {
      "cell_type": "code",
      "source": [
        "import pandas as pd\n",
        "\n",
        "# Create DataFrame\n",
        "data = {\n",
        "    'Name': ['Neha', 'Pooja', 'Nikita'],\n",
        "    'Age': [10, 20, 30]\n",
        "}\n",
        "df = pd.DataFrame(data)\n",
        "\n",
        "# Add new column 'Age_in_10_years' by adding 10 to the 'Age' column\n",
        "df['Age_in_10_years'] = df['Age'] + 10\n",
        "\n",
        "print(df)\n"
      ],
      "metadata": {
        "colab": {
          "base_uri": "https://localhost:8080/"
        },
        "id": "MlNL0tZRk1Rq",
        "outputId": "50090929-75b8-4a8f-929c-c642e9845016"
      },
      "execution_count": 9,
      "outputs": [
        {
          "output_type": "stream",
          "name": "stdout",
          "text": [
            "     Name  Age  Age_in_10_years\n",
            "0    Neha   10               20\n",
            "1   Pooja   20               30\n",
            "2  Nikita   30               40\n"
          ]
        }
      ]
    },
    {
      "cell_type": "markdown",
      "source": [
        "7. Write a program to perform element-wise multiplication of two NumPy arrays."
      ],
      "metadata": {
        "id": "im3jneqslHim"
      }
    },
    {
      "cell_type": "code",
      "source": [
        "import numpy as np\n",
        "\n",
        "# Define two arrays\n",
        "arr1 = np.array([1, 2, 3, 4])\n",
        "arr2 = np.array([5, 6, 7, 8])\n",
        "\n",
        "# Element-wise multiplication\n",
        "result = arr1 * arr2\n",
        "\n",
        "print(result)\n"
      ],
      "metadata": {
        "colab": {
          "base_uri": "https://localhost:8080/"
        },
        "id": "dVyzBwIilQpT",
        "outputId": "64ff4255-777e-4ca0-934c-caff1f0b0cc6"
      },
      "execution_count": 10,
      "outputs": [
        {
          "output_type": "stream",
          "name": "stdout",
          "text": [
            "[ 5 12 21 32]\n"
          ]
        }
      ]
    },
    {
      "cell_type": "markdown",
      "source": [
        "8. Create a line plot with multiple lines using Matplotlib."
      ],
      "metadata": {
        "id": "nOnYwaiglyXM"
      }
    },
    {
      "cell_type": "code",
      "source": [
        "import matplotlib.pyplot as plt\n",
        "\n",
        "# Sample data\n",
        "x = [1, 2, 3, 4, 5]\n",
        "y1 = [1, 4, 9, 16, 25]\n",
        "y2 = [2, 3, 5, 7, 11]\n",
        "\n",
        "# Create the line plot\n",
        "plt.plot(x, y1, label='y = x²', color='blue', marker='o')\n",
        "plt.plot(x, y2, label='Prime numbers', color='green', linestyle='--', marker='s')\n",
        "\n",
        "# Add labels and title\n",
        "plt.xlabel('X-axis')\n",
        "plt.ylabel('Y-axis')\n",
        "plt.title('Line Plot with Multiple Lines')\n",
        "\n",
        "# Add legend\n",
        "plt.legend()\n",
        "\n",
        "# Show plot\n",
        "plt.show()\n"
      ],
      "metadata": {
        "colab": {
          "base_uri": "https://localhost:8080/",
          "height": 472
        },
        "id": "pRzZz8LHmig8",
        "outputId": "0ece70b0-6db3-4b09-ba5c-57fb61676c84"
      },
      "execution_count": 11,
      "outputs": [
        {
          "output_type": "display_data",
          "data": {
            "text/plain": [
              "<Figure size 640x480 with 1 Axes>"
            ],
            "image/png": "[encoded data removed]"
          },
          "metadata": {}
        }
      ]
    },
    {
      "cell_type": "markdown",
      "source": [
        "9. Generate a Pandas DataFrame and filter rows where a column value is greater than a threshold."
      ],
      "metadata": {
        "id": "jqhIdz9tmsKZ"
      }
    },
    {
      "cell_type": "code",
      "source": [
        "import pandas as pd\n",
        "\n",
        "# Create a sample DataFrame\n",
        "data = {\n",
        "    'Name': ['Neha', 'Raghav', 'Medha', 'Pooja'],\n",
        "    'Score': [66, 22, 91, 10]\n",
        "}\n",
        "df = pd.DataFrame(data)\n",
        "\n",
        "# Define a threshold\n",
        "threshold = 50\n",
        "\n",
        "# Filter rows where 'Score' is greater than threshold\n",
        "filtered_df = df[df['Score'] > threshold]\n",
        "\n",
        "print(filtered_df)\n"
      ],
      "metadata": {
        "colab": {
          "base_uri": "https://localhost:8080/"
        },
        "id": "jY5lcsPfnGWs",
        "outputId": "30dd2609-19ad-4315-c922-9d92c0bb4199"
      },
      "execution_count": 14,
      "outputs": [
        {
          "output_type": "stream",
          "name": "stdout",
          "text": [
            "    Name  Score\n",
            "0   Neha     66\n",
            "2  Medha     91\n"
          ]
        }
      ]
    },
    {
      "cell_type": "markdown",
      "source": [
        "10. Create a histogram using Seaborn to visualize a distribution."
      ],
      "metadata": {
        "id": "eW1ibr2gnm7O"
      }
    },
    {
      "cell_type": "code",
      "source": [
        "import seaborn as sns\n",
        "import matplotlib.pyplot as plt\n",
        "import pandas as pd\n",
        "import numpy as np\n",
        "\n",
        "# Generate sample data\n",
        "data = pd.DataFrame({\n",
        "    'Scores': np.random.normal(loc=70, scale=10, size=100)  # 100 values from a normal distribution\n",
        "})\n",
        "\n",
        "# Create histogram using Seaborn\n",
        "sns.histplot(data['Scores'], bins=10, kde=True, color='skyblue')\n",
        "\n",
        "# Add title and labels\n",
        "plt.title('Distribution of Scores')\n",
        "plt.xlabel('Score')\n",
        "plt.ylabel('Frequency')\n",
        "\n",
        "# Show the plot\n",
        "plt.show()\n"
      ],
      "metadata": {
        "colab": {
          "base_uri": "https://localhost:8080/",
          "height": 472
        },
        "id": "CLCe38Bbn37Y",
        "outputId": "ce3f1662-424c-4d4d-fc18-b76a0e8f469f"
      },
      "execution_count": 15,
      "outputs": [
        {
          "output_type": "display_data",
          "data": {
            "text/plain": [
              "<Figure size 640x480 with 1 Axes>"
            ],
            "image/png": "[encoded data removed]"
          },
          "metadata": {}
        }
      ]
    },
    {
      "cell_type": "markdown",
      "source": [
        "11. Perform matrix multiplication using NumPy."
      ],
      "metadata": {
        "id": "9bjUCvquoBjL"
      }
    },
    {
      "cell_type": "code",
      "source": [
        "import numpy as np\n",
        "\n",
        "# Define two matrices\n",
        "A = np.array([[1, 2],\n",
        "              [3, 4]])\n",
        "\n",
        "B = np.array([[5, 6],\n",
        "              [7, 8]])\n",
        "\n",
        "# Matrix multiplication using np.dot()\n",
        "result = np.dot(A, B)\n",
        "\n",
        "print(result)\n"
      ],
      "metadata": {
        "colab": {
          "base_uri": "https://localhost:8080/"
        },
        "id": "Wga8v0TmoEzz",
        "outputId": "54ddaf7a-ad31-46c8-fa3a-1e5be823b125"
      },
      "execution_count": 16,
      "outputs": [
        {
          "output_type": "stream",
          "name": "stdout",
          "text": [
            "[[19 22]\n",
            " [43 50]]\n"
          ]
        }
      ]
    },
    {
      "cell_type": "markdown",
      "source": [
        "12. Use Pandas to load a CSV file and display its first 5 rows."
      ],
      "metadata": {
        "id": "FOa5y7KhoUrx"
      }
    },
    {
      "cell_type": "code",
      "source": [
        "import pandas as pd\n",
        "\n",
        "# Sample data\n",
        "data = {\n",
        "    'Name': ['Tanay', 'Neha', 'Pooja', 'Ankit', 'Hardik','Priti'],\n",
        "    'Age': [30, 31, 32, 33, 34,35],\n",
        "    'City': ['Noida', 'Mumbai', 'Pune', 'Bengaluru', 'Delhi','Mumbai'],\n",
        "    'Salary': [70000, 80000, 60000, 90000, 50000,40000]\n",
        "}\n",
        "\n",
        "# Create DataFrame\n",
        "df = pd.DataFrame(data)\n",
        "\n",
        "# Save to CSV\n",
        "df.to_csv('sample_data.csv', index=False)\n",
        "\n",
        "print(\"sample_data.csv file created successfully!\")\n"
      ],
      "metadata": {
        "colab": {
          "base_uri": "https://localhost:8080/"
        },
        "id": "Dm8ccfj8rKTA",
        "outputId": "bb098ffb-2a2d-4b39-e2d8-0401ccbfacaf"
      },
      "execution_count": 23,
      "outputs": [
        {
          "output_type": "stream",
          "name": "stdout",
          "text": [
            "sample_data.csv file created successfully!\n"
          ]
        }
      ]
    },
    {
      "cell_type": "code",
      "source": [
        "import pandas as pd\n",
        "\n",
        "# Load CSV file into a DataFrame\n",
        "df = pd.read_csv('sample_data.csv')\n",
        "\n",
        "# Display first 5 rows\n",
        "print(df.head())\n"
      ],
      "metadata": {
        "colab": {
          "base_uri": "https://localhost:8080/"
        },
        "id": "W7IXw0fEooAx",
        "outputId": "01898a51-f75f-47a2-9a61-b60bb8f83e17"
      },
      "execution_count": 24,
      "outputs": [
        {
          "output_type": "stream",
          "name": "stdout",
          "text": [
            "     Name  Age       City  Salary\n",
            "0   Tanay   30      Noida   70000\n",
            "1    Neha   31     Mumbai   80000\n",
            "2   Pooja   32       Pune   60000\n",
            "3   Ankit   33  Bengaluru   90000\n",
            "4  Hardik   34      Delhi   50000\n"
          ]
        }
      ]
    },
    {
      "cell_type": "markdown",
      "source": [
        "13. Create a 3D scatter plot using Plotly."
      ],
      "metadata": {
        "id": "Y7uekHZ9sFUE"
      }
    },
    {
      "cell_type": "code",
      "source": [
        "import plotly.express as px\n",
        "import pandas as pd\n",
        "import numpy as np\n",
        "\n",
        "# Generate sample data\n",
        "np.random.seed(42)\n",
        "df = pd.DataFrame({\n",
        "    'x': np.random.rand(50),\n",
        "    'y': np.random.rand(50),\n",
        "    'z': np.random.rand(50),\n",
        "    'category': np.random.choice(['A', 'B'], size=50)\n",
        "})\n",
        "\n",
        "# Create 3D scatter plot\n",
        "fig = px.scatter_3d(df, x='x', y='y', z='z', color='category',\n",
        "                    title='3D Scatter Plot Example',\n",
        "                    labels={'x': 'X Axis', 'y': 'Y Axis', 'z': 'Z Axis'})\n",
        "\n",
        "# Show plot\n",
        "fig.show()\n"
      ],
      "metadata": {
        "colab": {
          "base_uri": "https://localhost:8080/",
          "height": 542
        },
        "id": "3w7bMLuUsG3w",
        "outputId": "61d4c4a4-27a7-4608-b93d-8e87d69811e4"
      },
      "execution_count": 25,
      "outputs": [
        {
          "output_type": "display_data",
          "data": {
            "text/html": [
              "<html>\n",
              "<head><meta charset=\"utf-8\" /></head>\n",
              "<body>\n",
              "    <div>            <script src=\"https://cdnjs.cloudflare.com/ajax/libs/mathjax/2.7.5/MathJax.js?config=TeX-AMS-MML_SVG\"></script><script type=\"text/javascript\">if (window.MathJax && window.MathJax.Hub && window.MathJax.Hub.Config) {window.MathJax.Hub.Config({SVG: {font: \"STIX-Web\"}});}</script>                <script type=\"text/javascript\">window.PlotlyConfig = {MathJaxConfig: 'local'};</script>\n",
              "        <script charset=\"utf-8\" src=\"https://cdn.plot.ly/plotly-2.35.2.min.js\"></script>                <div id=\"0c7ec8ba-9f76-4d1d-ada0-c38093cabb8e\" class=\"plotly-graph-div\" style=\"height:525px; width:100%;\"></div>            <script type=\"text/javascript\">                                    window.PLOTLYENV=window.PLOTLYENV || {};                                    if (document.getElementById(\"0c7ec8ba-9f76-4d1d-ada0-c38093cabb8e\")) {                    Plotly.newPlot(                        \"0c7ec8ba-9f76-4d1d-ada0-c38093cabb8e\",                        [{\"hovertemplate\":\"category=A\\u003cbr\\u003eX Axis=%{x}\\u003cbr\\u003eY Axis=%{y}\\u003cbr\\u003eZ Axis=%{z}\\u003cextra\\u003e\\u003c\\u002fextra\\u003e\",\"legendgroup\":\"A\",\"marker\":{\"color\":\"#636efa\",\"symbol\":\"circle\"},\"mode\":\"markers\",\"name\":\"A\",\"scene\":\"scene\",\"showlegend\":true,\"x\":[0.3745401188473625,0.9507143064099162,0.7319939418114051,0.15599452033620265,0.9699098521619943,0.21233911067827616,0.18182496720710062,0.3042422429595377,0.5247564316322378,0.43194501864211576,0.13949386065204183,0.19967378215835974,0.5142344384136116,0.6075448519014384,0.17052412368729153,0.9488855372533332,0.3046137691733707,0.09767211400638387,0.12203823484477883,0.034388521115218396,0.2587799816000169,0.662522284353982,0.31171107608941095,0.18485445552552704],\"y\":[0.9695846277645586,0.7751328233611146,0.9394989415641891,0.9218742350231168,0.2713490317738959,0.3567533266935893,0.28093450968738076,0.14092422497476265,0.8021969807540397,0.07455064367977082,0.1987156815341724,0.7712703466859457,0.07404465173409036,0.8631034258755935,0.6232981268275579,0.06355835028602363,0.7296061783380641,0.6375574713552131,0.1195942459383017,0.7607850486168974,0.770967179954561,0.49379559636439074,0.5227328293819941,0.10789142699330445],\"z\":[0.03142918568673425,0.6364104112637804,0.3143559810763267,0.24929222914887494,0.16122128725400442,0.808120379564417,0.6334037565104235,0.8036720768991145,0.18657005888603584,0.8925589984899778,0.8960912999234932,0.8180147659224931,0.8607305832563434,0.417411003148779,0.22210781047073025,0.33761517140362796,0.5187906217433661,0.7030189588951778,0.9624472949421112,0.49724850589238545,0.2848404943774676,0.036886947354532795,0.6095643339798968,0.27864646423661144],\"type\":\"scatter3d\"},{\"hovertemplate\":\"category=B\\u003cbr\\u003eX Axis=%{x}\\u003cbr\\u003eY Axis=%{y}\\u003cbr\\u003eZ Axis=%{z}\\u003cextra\\u003e\\u003c\\u002fextra\\u003e\",\"legendgroup\":\"B\",\"marker\":{\"color\":\"#EF553B\",\"symbol\":\"circle\"},\"mode\":\"markers\",\"name\":\"B\",\"scene\":\"scene\",\"showlegend\":true,\"x\":[0.5986584841970366,0.15601864044243652,0.05808361216819946,0.8661761457749352,0.6011150117432088,0.7080725777960455,0.020584494295802447,0.8324426408004217,0.18340450985343382,0.2912291401980419,0.6118528947223795,0.29214464853521815,0.3663618432936917,0.45606998421703593,0.7851759613930136,0.5924145688620425,0.046450412719997725,0.06505159298527952,0.9656320330745594,0.8083973481164611,0.6842330265121569,0.4401524937396013,0.4951769101112702,0.9093204020787821,0.5200680211778108,0.5467102793432796],\"y\":[0.8948273504276488,0.5978999788110851,0.0884925020519195,0.1959828624191452,0.045227288910538066,0.32533033076326434,0.388677289689482,0.8287375091519293,0.5426960831582485,0.9868869366005173,0.7722447692966574,0.005522117123602399,0.8154614284548342,0.7068573438476171,0.7290071680409873,0.3584657285442726,0.11586905952512971,0.3308980248526492,0.3109823217156622,0.32518332202674705,0.8872127425763265,0.4722149251619493,0.713244787222995,0.5612771975694962,0.42754101835854963,0.02541912674409519],\"z\":[0.5085706911647028,0.907566473926093,0.41038292303562973,0.7555511385430487,0.22879816549162246,0.07697990982879299,0.289751452913768,0.9296976523425731,0.8714605901877177,0.5393422419156507,0.8074401551640625,0.3180034749718639,0.11005192452767676,0.22793516254194168,0.4271077886262563,0.006952130531190703,0.5107473025775657,0.1198653673336828,0.9429097039125192,0.32320293202075523,0.363629602379294,0.9717820827209607,0.25178229582536416,0.30087830981676966,0.5026790232288615,0.05147875124998935],\"type\":\"scatter3d\"}],                        {\"template\":{\"data\":{\"histogram2dcontour\":[{\"type\":\"histogram2dcontour\",\"colorbar\":{\"outlinewidth\":0,\"ticks\":\"\"},\"colorscale\":[[0.0,\"#0d0887\"],[0.1111111111111111,\"#46039f\"],[0.2222222222222222,\"#7201a8\"],[0.3333333333333333,\"#9c179e\"],[0.4444444444444444,\"#bd3786\"],[0.5555555555555556,\"#d8576b\"],[0.6666666666666666,\"#ed7953\"],[0.7777777777777778,\"#fb9f3a\"],[0.8888888888888888,\"#fdca26\"],[1.0,\"#f0f921\"]]}],\"choropleth\":[{\"type\":\"choropleth\",\"colorbar\":{\"outlinewidth\":0,\"ticks\":\"\"}}],\"histogram2d\":[{\"type\":\"histogram2d\",\"colorbar\":{\"outlinewidth\":0,\"ticks\":\"\"},\"colorscale\":[[0.0,\"#0d0887\"],[0.1111111111111111,\"#46039f\"],[0.2222222222222222,\"#7201a8\"],[0.3333333333333333,\"#9c179e\"],[0.4444444444444444,\"#bd3786\"],[0.5555555555555556,\"#d8576b\"],[0.6666666666666666,\"#ed7953\"],[0.7777777777777778,\"#fb9f3a\"],[0.8888888888888888,\"#fdca26\"],[1.0,\"#f0f921\"]]}],\"heatmap\":[{\"type\":\"heatmap\",\"colorbar\":{\"outlinewidth\":0,\"ticks\":\"\"},\"colorscale\":[[0.0,\"#0d0887\"],[0.1111111111111111,\"#46039f\"],[0.2222222222222222,\"#7201a8\"],[0.3333333333333333,\"#9c179e\"],[0.4444444444444444,\"#bd3786\"],[0.5555555555555556,\"#d8576b\"],[0.6666666666666666,\"#ed7953\"],[0.7777777777777778,\"#fb9f3a\"],[0.8888888888888888,\"#fdca26\"],[1.0,\"#f0f921\"]]}],\"heatmapgl\":[{\"type\":\"heatmapgl\",\"colorbar\":{\"outlinewidth\":0,\"ticks\":\"\"},\"colorscale\":[[0.0,\"#0d0887\"],[0.1111111111111111,\"#46039f\"],[0.2222222222222222,\"#7201a8\"],[0.3333333333333333,\"#9c179e\"],[0.4444444444444444,\"#bd3786\"],[0.5555555555555556,\"#d8576b\"],[0.6666666666666666,\"#ed7953\"],[0.7777777777777778,\"#fb9f3a\"],[0.8888888888888888,\"#fdca26\"],[1.0,\"#f0f921\"]]}],\"contourcarpet\":[{\"type\":\"contourcarpet\",\"colorbar\":{\"outlinewidth\":0,\"ticks\":\"\"}}],\"contour\":[{\"type\":\"contour\",\"colorbar\":{\"outlinewidth\":0,\"ticks\":\"\"},\"colorscale\":[[0.0,\"#0d0887\"],[0.1111111111111111,\"#46039f\"],[0.2222222222222222,\"#7201a8\"],[0.3333333333333333,\"#9c179e\"],[0.4444444444444444,\"#bd3786\"],[0.5555555555555556,\"#d8576b\"],[0.6666666666666666,\"#ed7953\"],[0.7777777777777778,\"#fb9f3a\"],[0.8888888888888888,\"#fdca26\"],[1.0,\"#f0f921\"]]}],\"surface\":[{\"type\":\"surface\",\"colorbar\":{\"outlinewidth\":0,\"ticks\":\"\"},\"colorscale\":[[0.0,\"#0d0887\"],[0.1111111111111111,\"#46039f\"],[0.2222222222222222,\"#7201a8\"],[0.3333333333333333,\"#9c179e\"],[0.4444444444444444,\"#bd3786\"],[0.5555555555555556,\"#d8576b\"],[0.6666666666666666,\"#ed7953\"],[0.7777777777777778,\"#fb9f3a\"],[0.8888888888888888,\"#fdca26\"],[1.0,\"#f0f921\"]]}],\"mesh3d\":[{\"type\":\"mesh3d\",\"colorbar\":{\"outlinewidth\":0,\"ticks\":\"\"}}],\"scatter\":[{\"fillpattern\":{\"fillmode\":\"overlay\",\"size\":10,\"solidity\":0.2},\"type\":\"scatter\"}],\"parcoords\":[{\"type\":\"parcoords\",\"line\":{\"colorbar\":{\"outlinewidth\":0,\"ticks\":\"\"}}}],\"scatterpolargl\":[{\"type\":\"scatterpolargl\",\"marker\":{\"colorbar\":{\"outlinewidth\":0,\"ticks\":\"\"}}}],\"bar\":[{\"error_x\":{\"color\":\"#2a3f5f\"},\"error_y\":{\"color\":\"#2a3f5f\"},\"marker\":{\"line\":{\"color\":\"#E5ECF6\",\"width\":0.5},\"pattern\":{\"fillmode\":\"overlay\",\"size\":10,\"solidity\":0.2}},\"type\":\"bar\"}],\"scattergeo\":[{\"type\":\"scattergeo\",\"marker\":{\"colorbar\":{\"outlinewidth\":0,\"ticks\":\"\"}}}],\"scatterpolar\":[{\"type\":\"scatterpolar\",\"marker\":{\"colorbar\":{\"outlinewidth\":0,\"ticks\":\"\"}}}],\"histogram\":[{\"marker\":{\"pattern\":{\"fillmode\":\"overlay\",\"size\":10,\"solidity\":0.2}},\"type\":\"histogram\"}],\"scattergl\":[{\"type\":\"scattergl\",\"marker\":{\"colorbar\":{\"outlinewidth\":0,\"ticks\":\"\"}}}],\"scatter3d\":[{\"type\":\"scatter3d\",\"line\":{\"colorbar\":{\"outlinewidth\":0,\"ticks\":\"\"}},\"marker\":{\"colorbar\":{\"outlinewidth\":0,\"ticks\":\"\"}}}],\"scattermapbox\":[{\"type\":\"scattermapbox\",\"marker\":{\"colorbar\":{\"outlinewidth\":0,\"ticks\":\"\"}}}],\"scatterternary\":[{\"type\":\"scatterternary\",\"marker\":{\"colorbar\":{\"outlinewidth\":0,\"ticks\":\"\"}}}],\"scattercarpet\":[{\"type\":\"scattercarpet\",\"marker\":{\"colorbar\":{\"outlinewidth\":0,\"ticks\":\"\"}}}],\"carpet\":[{\"aaxis\":{\"endlinecolor\":\"#2a3f5f\",\"gridcolor\":\"white\",\"linecolor\":\"white\",\"minorgridcolor\":\"white\",\"startlinecolor\":\"#2a3f5f\"},\"baxis\":{\"endlinecolor\":\"#2a3f5f\",\"gridcolor\":\"white\",\"linecolor\":\"white\",\"minorgridcolor\":\"white\",\"startlinecolor\":\"#2a3f5f\"},\"type\":\"carpet\"}],\"table\":[{\"cells\":{\"fill\":{\"color\":\"#EBF0F8\"},\"line\":{\"color\":\"white\"}},\"header\":{\"fill\":{\"color\":\"#C8D4E3\"},\"line\":{\"color\":\"white\"}},\"type\":\"table\"}],\"barpolar\":[{\"marker\":{\"line\":{\"color\":\"#E5ECF6\",\"width\":0.5},\"pattern\":{\"fillmode\":\"overlay\",\"size\":10,\"solidity\":0.2}},\"type\":\"barpolar\"}],\"pie\":[{\"automargin\":true,\"type\":\"pie\"}]},\"layout\":{\"autotypenumbers\":\"strict\",\"colorway\":[\"#636efa\",\"#EF553B\",\"#00cc96\",\"#ab63fa\",\"#FFA15A\",\"#19d3f3\",\"#FF6692\",\"#B6E880\",\"#FF97FF\",\"#FECB52\"],\"font\":{\"color\":\"#2a3f5f\"},\"hovermode\":\"closest\",\"hoverlabel\":{\"align\":\"left\"},\"paper_bgcolor\":\"white\",\"plot_bgcolor\":\"#E5ECF6\",\"polar\":{\"bgcolor\":\"#E5ECF6\",\"angularaxis\":{\"gridcolor\":\"white\",\"linecolor\":\"white\",\"ticks\":\"\"},\"radialaxis\":{\"gridcolor\":\"white\",\"linecolor\":\"white\",\"ticks\":\"\"}},\"ternary\":{\"bgcolor\":\"#E5ECF6\",\"aaxis\":{\"gridcolor\":\"white\",\"linecolor\":\"white\",\"ticks\":\"\"},\"baxis\":{\"gridcolor\":\"white\",\"linecolor\":\"white\",\"ticks\":\"\"},\"caxis\":{\"gridcolor\":\"white\",\"linecolor\":\"white\",\"ticks\":\"\"}},\"coloraxis\":{\"colorbar\":{\"outlinewidth\":0,\"ticks\":\"\"}},\"colorscale\":{\"sequential\":[[0.0,\"#0d0887\"],[0.1111111111111111,\"#46039f\"],[0.2222222222222222,\"#7201a8\"],[0.3333333333333333,\"#9c179e\"],[0.4444444444444444,\"#bd3786\"],[0.5555555555555556,\"#d8576b\"],[0.6666666666666666,\"#ed7953\"],[0.7777777777777778,\"#fb9f3a\"],[0.8888888888888888,\"#fdca26\"],[1.0,\"#f0f921\"]],\"sequentialminus\":[[0.0,\"#0d0887\"],[0.1111111111111111,\"#46039f\"],[0.2222222222222222,\"#7201a8\"],[0.3333333333333333,\"#9c179e\"],[0.4444444444444444,\"#bd3786\"],[0.5555555555555556,\"#d8576b\"],[0.6666666666666666,\"#ed7953\"],[0.7777777777777778,\"#fb9f3a\"],[0.8888888888888888,\"#fdca26\"],[1.0,\"#f0f921\"]],\"diverging\":[[0,\"#8e0152\"],[0.1,\"#c51b7d\"],[0.2,\"#de77ae\"],[0.3,\"#f1b6da\"],[0.4,\"#fde0ef\"],[0.5,\"#f7f7f7\"],[0.6,\"#e6f5d0\"],[0.7,\"#b8e186\"],[0.8,\"#7fbc41\"],[0.9,\"#4d9221\"],[1,\"#276419\"]]},\"xaxis\":{\"gridcolor\":\"white\",\"linecolor\":\"white\",\"ticks\":\"\",\"title\":{\"standoff\":15},\"zerolinecolor\":\"white\",\"automargin\":true,\"zerolinewidth\":2},\"yaxis\":{\"gridcolor\":\"white\",\"linecolor\":\"white\",\"ticks\":\"\",\"title\":{\"standoff\":15},\"zerolinecolor\":\"white\",\"automargin\":true,\"zerolinewidth\":2},\"scene\":{\"xaxis\":{\"backgroundcolor\":\"#E5ECF6\",\"gridcolor\":\"white\",\"linecolor\":\"white\",\"showbackground\":true,\"ticks\":\"\",\"zerolinecolor\":\"white\",\"gridwidth\":2},\"yaxis\":{\"backgroundcolor\":\"#E5ECF6\",\"gridcolor\":\"white\",\"linecolor\":\"white\",\"showbackground\":true,\"ticks\":\"\",\"zerolinecolor\":\"white\",\"gridwidth\":2},\"zaxis\":{\"backgroundcolor\":\"#E5ECF6\",\"gridcolor\":\"white\",\"linecolor\":\"white\",\"showbackground\":true,\"ticks\":\"\",\"zerolinecolor\":\"white\",\"gridwidth\":2}},\"shapedefaults\":{\"line\":{\"color\":\"#2a3f5f\"}},\"annotationdefaults\":{\"arrowcolor\":\"#2a3f5f\",\"arrowhead\":0,\"arrowwidth\":1},\"geo\":{\"bgcolor\":\"white\",\"landcolor\":\"#E5ECF6\",\"subunitcolor\":\"white\",\"showland\":true,\"showlakes\":true,\"lakecolor\":\"white\"},\"title\":{\"x\":0.05},\"mapbox\":{\"style\":\"light\"}}},\"scene\":{\"domain\":{\"x\":[0.0,1.0],\"y\":[0.0,1.0]},\"xaxis\":{\"title\":{\"text\":\"X Axis\"}},\"yaxis\":{\"title\":{\"text\":\"Y Axis\"}},\"zaxis\":{\"title\":{\"text\":\"Z Axis\"}}},\"legend\":{\"title\":{\"text\":\"category\"},\"tracegroupgap\":0},\"title\":{\"text\":\"3D Scatter Plot Example\"}},                        {\"responsive\": true}                    ).then(function(){\n",
              "                            \n",
              "var gd = document.getElementById('0c7ec8ba-9f76-4d1d-ada0-c38093cabb8e');\n",
              "var x = new MutationObserver(function (mutations, observer) {{\n",
              "        var display = window.getComputedStyle(gd).display;\n",
              "        if (!display || display === 'none') {{\n",
              "            console.log([gd, 'removed!']);\n",
              "            Plotly.purge(gd);\n",
              "            observer.disconnect();\n",
              "        }}\n",
              "}});\n",
              "\n",
              "// Listen for the removal of the full notebook cells\n",
              "var notebookContainer = gd.closest('#notebook-container');\n",
              "if (notebookContainer) {{\n",
              "    x.observe(notebookContainer, {childList: true});\n",
              "}}\n",
              "\n",
              "// Listen for the clearing of the current output cell\n",
              "var outputEl = gd.closest('.output');\n",
              "if (outputEl) {{\n",
              "    x.observe(outputEl, {childList: true});\n",
              "}}\n",
              "\n",
              "                        })                };                            </script>        </div>\n",
              "</body>\n",
              "</html>"
            ]
          },
          "metadata": {}
        }
      ]
    }
  ]
}